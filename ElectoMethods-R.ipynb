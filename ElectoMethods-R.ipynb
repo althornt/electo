{
 "cells": [
  {
   "cell_type": "code",
   "execution_count": 1,
   "metadata": {
    "collapsed": false
   },
   "outputs": [
    {
     "data": {
      "text/html": [
       "<table>\n",
       "<thead><tr><th></th><th scope=col>TCGA-02-0047-01A-01R-1849-01</th><th scope=col>TCGA-02-0055-01A-01R-1849-01</th><th scope=col>TCGA-02-2483-01A-01R-1849-01</th><th scope=col>TCGA-02-2485-01A-01R-1849-01</th></tr></thead>\n",
       "<tbody>\n",
       "\t<tr><th scope=row>TCGA-02-0047-01A-01R-1849-01</th><td>1.0000   </td><td>0.3596706</td><td>0.4209355</td><td>0.8055078</td></tr>\n",
       "\t<tr><th scope=row>TCGA-02-0055-01A-01R-1849-01</th><td>0.0300   </td><td>1.0000000</td><td>0.4209355</td><td>0.8055078</td></tr>\n",
       "\t<tr><th scope=row>TCGA-02-2483-01A-01R-1849-01</th><td>0.7234   </td><td>0.3596706</td><td>1.0000000</td><td>0.8055078</td></tr>\n",
       "\t<tr><th scope=row>TCGA-02-2485-01A-01R-1849-01</th><td>0.2200   </td><td>0.3596706</td><td>0.4209355</td><td>1.0000000</td></tr>\n",
       "</tbody>\n",
       "</table>\n"
      ],
      "text/latex": [
       "\\begin{tabular}{r|llll}\n",
       "  & TCGA-02-0047-01A-01R-1849-01 & TCGA-02-0055-01A-01R-1849-01 & TCGA-02-2483-01A-01R-1849-01 & TCGA-02-2485-01A-01R-1849-01\\\\\n",
       "\\hline\n",
       "\tTCGA-02-0047-01A-01R-1849-01 & 1.0000    & 0.3596706 & 0.4209355 & 0.8055078\\\\\n",
       "\tTCGA-02-0055-01A-01R-1849-01 & 0.0300    & 1.0000000 & 0.4209355 & 0.8055078\\\\\n",
       "\tTCGA-02-2483-01A-01R-1849-01 & 0.7234    & 0.3596706 & 1.0000000 & 0.8055078\\\\\n",
       "\tTCGA-02-2485-01A-01R-1849-01 & 0.2200    & 0.3596706 & 0.4209355 & 1.0000000\\\\\n",
       "\\end{tabular}\n"
      ],
      "text/markdown": [
       "\n",
       "| <!--/--> | TCGA-02-0047-01A-01R-1849-01 | TCGA-02-0055-01A-01R-1849-01 | TCGA-02-2483-01A-01R-1849-01 | TCGA-02-2485-01A-01R-1849-01 | \n",
       "|---|---|---|---|\n",
       "| TCGA-02-0047-01A-01R-1849-01 | 1.0000    | 0.3596706 | 0.4209355 | 0.8055078 | \n",
       "| TCGA-02-0055-01A-01R-1849-01 | 0.0300    | 1.0000000 | 0.4209355 | 0.8055078 | \n",
       "| TCGA-02-2483-01A-01R-1849-01 | 0.7234    | 0.3596706 | 1.0000000 | 0.8055078 | \n",
       "| TCGA-02-2485-01A-01R-1849-01 | 0.2200    | 0.3596706 | 0.4209355 | 1.0000000 | \n",
       "\n",
       "\n"
      ],
      "text/plain": [
       "                             TCGA-02-0047-01A-01R-1849-01\n",
       "TCGA-02-0047-01A-01R-1849-01 1.0000                      \n",
       "TCGA-02-0055-01A-01R-1849-01 0.0300                      \n",
       "TCGA-02-2483-01A-01R-1849-01 0.7234                      \n",
       "TCGA-02-2485-01A-01R-1849-01 0.2200                      \n",
       "                             TCGA-02-0055-01A-01R-1849-01\n",
       "TCGA-02-0047-01A-01R-1849-01 0.3596706                   \n",
       "TCGA-02-0055-01A-01R-1849-01 1.0000000                   \n",
       "TCGA-02-2483-01A-01R-1849-01 0.3596706                   \n",
       "TCGA-02-2485-01A-01R-1849-01 0.3596706                   \n",
       "                             TCGA-02-2483-01A-01R-1849-01\n",
       "TCGA-02-0047-01A-01R-1849-01 0.4209355                   \n",
       "TCGA-02-0055-01A-01R-1849-01 0.4209355                   \n",
       "TCGA-02-2483-01A-01R-1849-01 1.0000000                   \n",
       "TCGA-02-2485-01A-01R-1849-01 0.4209355                   \n",
       "                             TCGA-02-2485-01A-01R-1849-01\n",
       "TCGA-02-0047-01A-01R-1849-01 0.8055078                   \n",
       "TCGA-02-0055-01A-01R-1849-01 0.8055078                   \n",
       "TCGA-02-2483-01A-01R-1849-01 0.8055078                   \n",
       "TCGA-02-2485-01A-01R-1849-01 1.0000000                   "
      ]
     },
     "metadata": {},
     "output_type": "display_data"
    }
   ],
   "source": [
    "# INPUTS:\n",
    "  # similarity matrix: sample by sample\n",
    "  # features: sample by feature\n",
    "\n",
    "### METHODS\n",
    "readSimilarityMatrix <- function(filename){\n",
    "  similarity <- read.delim(filename,\n",
    "                           header=T,\n",
    "                           row.names=1,\n",
    "                           stringsAsFactors=F,\n",
    "                           check.names=F)\n",
    "  saveRDS(similarity,file = paste0(filename,\".RDS\"))\n",
    "  return(similarity)\n",
    "}\n",
    "\n",
    "# similarity_matrix = readSimilarityMatrix(\"/Users/Alexis/Desktop/samplemat.txt\")\n",
    "similarity_matrix = readSimilarityMatrix(\"/Users/Alexis/Desktop/pancansample.tsv\")\n",
    "\n",
    "\n",
    "similarity_matrix\n",
    "\n",
    "# head(readSimilarityMatrix(\"/Users/Alexis/Desktop/StuartRotation/data/simMatrix.pancan.atlas.imputed.tsv\"))"
   ]
  },
  {
   "cell_type": "code",
   "execution_count": 8,
   "metadata": {
    "collapsed": false
   },
   "outputs": [
    {
     "name": "stdout",
     "output_type": "stream",
     "text": [
      "                             1                             \n",
      "TCGA-02-0047-01A-01R-1849-01 \"TCGA-02-2485-01A-01R-1849-01\"\n",
      "TCGA-02-0055-01A-01R-1849-01 \"TCGA-02-2485-01A-01R-1849-01\"\n",
      "TCGA-02-2483-01A-01R-1849-01 \"TCGA-02-2485-01A-01R-1849-01\"\n",
      "TCGA-02-2485-01A-01R-1849-01 \"TCGA-02-2483-01A-01R-1849-01\"\n",
      "                             2                             \n",
      "TCGA-02-0047-01A-01R-1849-01 \"TCGA-02-2483-01A-01R-1849-01\"\n",
      "TCGA-02-0055-01A-01R-1849-01 \"TCGA-02-2483-01A-01R-1849-01\"\n",
      "TCGA-02-2483-01A-01R-1849-01 \"TCGA-02-0047-01A-01R-1849-01\"\n",
      "TCGA-02-2485-01A-01R-1849-01 \"TCGA-02-0055-01A-01R-1849-01\"\n",
      "                             3                             \n",
      "TCGA-02-0047-01A-01R-1849-01 \"TCGA-02-0055-01A-01R-1849-01\"\n",
      "TCGA-02-0055-01A-01R-1849-01 \"TCGA-02-0047-01A-01R-1849-01\"\n",
      "TCGA-02-2483-01A-01R-1849-01 \"TCGA-02-0055-01A-01R-1849-01\"\n",
      "TCGA-02-2485-01A-01R-1849-01 \"TCGA-02-0047-01A-01R-1849-01\"\n"
     ]
    }
   ],
   "source": [
    "# calculate ranking of samples by similarity to each sample\n",
    "# input: similarity matrix\n",
    "# return: sample by rank matrix, containing sample names ordered by similarity to row name\n",
    "getSampleRankings <- function(similarity_matrix){\n",
    "  samples <- rownames(similarity_matrix)\n",
    "  sample_ranking_mat <- c()\n",
    "      \n",
    "  for(sample in samples){\n",
    "    ranked_samples <- names(sort(similarity_matrix[sample,,drop=F],decreasing = T)[-c(1)])\n",
    "    sample_ranking_mat <- rbind(sample_ranking_mat,ranked_samples)\n",
    "  }\n",
    "  rownames(sample_ranking_mat) <- samples\n",
    "  colnames(sample_ranking_mat) <- c(1:(length(samples)-1))\n",
    "    \n",
    "  return(sample_ranking_mat)\n",
    "    \n",
    "}\n",
    "\n",
    "ranked_samples = getSampleRankings(similarity_matrix)\n",
    "print(ranked_samples)\n"
   ]
  },
  {
   "cell_type": "code",
   "execution_count": 22,
   "metadata": {
    "collapsed": false
   },
   "outputs": [
    {
     "name": "stdout",
     "output_type": "stream",
     "text": [
      "[1] \"TCGA-02-2485-01A-01R-1849-01\"\n",
      "                             1                             \n",
      "TCGA-02-0047-01A-01R-1849-01 \"TCGA-02-2485-01A-01R-1849-01\"\n",
      "TCGA-02-0055-01A-01R-1849-01 \"TCGA-02-2485-01A-01R-1849-01\"\n",
      "TCGA-02-2483-01A-01R-1849-01 \"TCGA-02-2485-01A-01R-1849-01\"\n",
      "TCGA-02-2485-01A-01R-1849-01 \"TCGA-02-2483-01A-01R-1849-01\"\n",
      "                             2                             \n",
      "TCGA-02-0047-01A-01R-1849-01 \"TCGA-02-2483-01A-01R-1849-01\"\n",
      "TCGA-02-0055-01A-01R-1849-01 \"TCGA-02-2483-01A-01R-1849-01\"\n",
      "TCGA-02-2483-01A-01R-1849-01 \"TCGA-02-0047-01A-01R-1849-01\"\n",
      "TCGA-02-2485-01A-01R-1849-01 \"TCGA-02-0055-01A-01R-1849-01\"\n",
      "                             3                             \n",
      "TCGA-02-0047-01A-01R-1849-01 \"TCGA-02-0055-01A-01R-1849-01\"\n",
      "TCGA-02-0055-01A-01R-1849-01 \"TCGA-02-0047-01A-01R-1849-01\"\n",
      "TCGA-02-2483-01A-01R-1849-01 \"TCGA-02-0055-01A-01R-1849-01\"\n",
      "TCGA-02-2485-01A-01R-1849-01 \"TCGA-02-0047-01A-01R-1849-01\"\n",
      "[1] 1 2 3\n"
     ]
    },
    {
     "data": {
      "text/html": [
       "<strong>D^+:</strong> 0.818181818181818"
      ],
      "text/latex": [
       "\\textbf{D\\textbackslash{}textasciicircum\\{\\}+:} 0.818181818181818"
      ],
      "text/markdown": [
       "**D^+:** 0.818181818181818"
      ],
      "text/plain": [
       "      D^+ \n",
       "0.8181818 "
      ]
     },
     "metadata": {},
     "output_type": "display_data"
    }
   ],
   "source": [
    "# calculate KS test of ranks of positive samples to uniform distribution\n",
    "# input: ranked samples, names of positive samples\n",
    "# return: KS distance\n",
    "KStoUniform <- function(ranked_samples, pos_samples){\n",
    "  print(pos_samples)\n",
    "\n",
    "  print(ranked_samples)\n",
    "  pos_ranks <- which(ranked_samples %in% pos_samples)\n",
    "  print(pos_ranks)\n",
    "  ks <- suppressWarnings(ks.test(pos_ranks,\"punif\",1,length(ranked_samples),alternative=\"greater\")) #### ToDo: change back to two.sided OR leave, but decide!!!!!!!!!!!!\n",
    "  return(ks$statistic)\n",
    "}\n",
    "\n",
    "\n",
    "KStoUniform(ranked_samples, c('TCGA-02-2485-01A-01R-1849-01'))\n"
   ]
  },
  {
   "cell_type": "code",
   "execution_count": null,
   "metadata": {
    "collapsed": true
   },
   "outputs": [],
   "source": [
    "# get KS distance for all samples in a set\n",
    "# input: sample set, the sample ranking matrix, names of positive samples\n",
    "# return: vector of KS distances\n",
    "getKSDistribution <- function(samples, sample_ranking_mat, pos_samples){\n",
    "  distances <- c()\n",
    "  for(sample in samples){\n",
    "    ranked_samples <- sample_ranking_mat[sample,]\n",
    "    ranked_samples <- ranked_samples[which(ranked_samples %in% rownames(sample_ranking_mat))]\n",
    "    distances <- c(distances,KStoUniform(ranked_samples, pos_samples))\n",
    "  }\n",
    "  names(distances) <- samples\n",
    "  return(distances)\n",
    "}\n",
    "\n",
    "\n",
    "getKSDistribution(samples, ranked_samples, ['TCGA-02-2485-01A-01R-1849-01'])"
   ]
  },
  {
   "cell_type": "code",
   "execution_count": null,
   "metadata": {
    "collapsed": true
   },
   "outputs": [],
   "source": [
    "analyzeFeature <- function(feature.object,sample_ranking_mat, disease_annotation=c()){\n",
    "  UseMethod(\"analyzeFeature\",feature.object)\n",
    "}\n",
    "# Analyze one binary feature\n",
    "# input: feature values as named vector, the sample ranking matrix\n",
    "# return: \n",
    "analyzeFeature.BinaryFeature <- function(feature.object, sample_ranking_mat, disease_annotation=c()){\n",
    "  feature_values <- feature.object$feature_values\n",
    "  pos_samples <- names(feature_values[which(feature_values == 1)])\n",
    "  feature.object <- set_pos_samples(feature.object,pos_samples)\n",
    "  neg_samples <- names(feature_values[which(!(names(feature_values) %in% pos_samples))])\n",
    "  feature.object <- set_neg_samples(feature.object,neg_samples)\n",
    "  \n",
    "  pos_KSdistribution <- getKSDistribution(pos_samples, sample_ranking_mat, pos_samples)\n",
    "  feature.object <- set_pos_distribution_raw(feature.object,pos_KSdistribution)\n",
    "  neg_KSdistribution <- getKSDistribution(neg_samples, sample_ranking_mat, pos_samples)\n",
    "  feature.object <- set_neg_distribution_raw(feature.object,neg_KSdistribution)\n",
    "  \n",
    "  feature.object <- set_separation_raw(feature.object,testSeparationRaw(feature.object))\n",
    "  \n",
    "  breaks <- c(0:20)/20\n",
    "  feature.object <- set_breaks(feature.object,breaks)\n",
    "  neg_histogram <- hist(neg_KSdistribution,breaks = breaks,plot=F)\n",
    "  pos_histogram <- hist(pos_KSdistribution,breaks = breaks,plot=F)\n",
    "  \n",
    "  neg_smoothed <- smoothHistogram(neg_histogram$counts)\n",
    "  pseudocounts <- 10\n",
    "  feature.object <- set_pseudocounts(feature.object, pseudocounts)\n",
    "  pos_pseudo <- addPseudocounts(pos_histogram, neg_smoothed, pseudocounts)\n",
    "  pos_pseudo_smoothed <- smoothHistogram(pos_pseudo)\n",
    "  \n",
    "  #pos_histogram$counts <- pos_pseudo_smoothed\n",
    "  #plot(pos_histogram)\n",
    "  #neg_histogram$counts <- neg_smoothed\n",
    "  #plot(neg_histogram)\n",
    "  \n",
    "  feature.object <- set_pos_distribution(feature.object,pos_pseudo_smoothed)\n",
    "  feature.object <- set_neg_distribution(feature.object,neg_smoothed)\n",
    "  feature.object <- set_separation(feature.object,testSeparation(feature.object))\n",
    "  \n",
    "  \n",
    "  feature.object <- set_log_odds_ratio(feature.object,calculateLogOddsRatio(feature.object))\n",
    "  \n",
    "  general_prior <- length(pos_samples)/(length(neg_samples)+length(pos_samples))\n",
    "  feature.object <- set_probability_general_prior(feature.object,calculateProbabilities(feature.object,general_prior))\n",
    "\n",
    "  feature.object <- set_tissue_priors(feature.object, getTissuePriors(feature.object,disease_annotation))\n",
    "  feature.object <- set_probabilities_tissue_priors(feature.object, getTissueProbabilities(feature.object))\n",
    "  \n",
    "  return(feature.object)\n",
    "}"
   ]
  }
 ],
 "metadata": {
  "kernelspec": {
   "display_name": "R",
   "language": "R",
   "name": "ir"
  },
  "language_info": {
   "codemirror_mode": "r",
   "file_extension": ".r",
   "mimetype": "text/x-r-source",
   "name": "R",
   "pygments_lexer": "r",
   "version": "3.2.4"
  }
 },
 "nbformat": 4,
 "nbformat_minor": 2
}
