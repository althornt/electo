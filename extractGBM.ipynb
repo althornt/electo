{
 "cells": [
  {
   "cell_type": "code",
   "execution_count": 18,
   "metadata": {
    "collapsed": false
   },
   "outputs": [],
   "source": [
    "#getting GBM clinical data\n",
    "clinical = open(\"/Users/Alexis/Desktop/StuartRotation/data/clinical_out.tsv\",\"r\")\n",
    "GBM_clinical_file = open(\"/Users/Alexis/Desktop/StuartRotation/data/GBM_clinical_out.tsv\",\"w\")\n",
    "GBM_patient_ids = []\n",
    "\n",
    "for line in clinical: \n",
    "    sline = line.split(\"\\t\")\n",
    "    #header\n",
    "    if sline[0] == \"bcr_patient_uuid\":\n",
    "        GBM_clinical_file.write(line)\n",
    "    if sline[2] == \"GBM\":\n",
    "        GBM_clinical_file.write(line)\n",
    "        GBM_patient_ids.append(sline[1])"
   ]
  },
  {
   "cell_type": "code",
   "execution_count": 72,
   "metadata": {
    "collapsed": false
   },
   "outputs": [
    {
     "name": "stdout",
     "output_type": "stream",
     "text": [
      "288\n",
      "168\n",
      "596\n",
      "835\n"
     ]
    }
   ],
   "source": [
    "# ID mapping - getting the different IDs for the GBM samples\n",
    "IDmapfile = open(\"/Users/Alexis/Desktop/StuartRotation/data/ID_mapping.tsv\", \"r\")\n",
    "\n",
    "#\"patient_id\tsample_id\tClinical_id\tSNVs_id\t\n",
    "# 0               1            2             3    \n",
    "['TCGA-HU-A4GU', 'TCGA-HU-A4GU-01', 'TCGA-HU-A4GU', 'TCGA-HU-A4GU-01A-11D-A25D-08',\n",
    "\n",
    "# CNV_id\tRPPA_id\tmRNA_id\tmiRNA_id\tDNAmethylation_id\"\n",
    "# 4       5        6       7              8\n",
    "\n",
    "\n",
    " 'TCGA-HU-A4GU-01A-11D-A253-01', 'TCGA-HU-A4GU-01A-21-A287-20', 'TCGA-HU-A4GU-01A-11R-A251-31', 'TCGA-HU-A4GU-01A-11R-A252-13', 'TCGA-HU-A4GU-01A-11D-A254-05\\n']\n",
    "\n",
    "\n",
    "GBM_ids = []\n",
    "\n",
    "for line in IDmapfile:\n",
    "    sline = line.split(\"\\t\")\n",
    "    for sample in GBM_patient_ids:\n",
    "        if sample == sline[0]:\n",
    "            L = [sline[0],sline[1],sline[2],sline[3],sline[4],sline[5],sline[6],sline[7],sline[8]]\n",
    "            GBM_ids.append(L)\n",
    "\n",
    "#getting list of GBM mRNA ids\n",
    "GBM_mRNA_ids = []\n",
    "\n",
    "for l in GBM_ids:\n",
    "    mrna = l[6]\n",
    "    if mrna == 'NA':\n",
    "        pass\n",
    "    else:\n",
    "        GBM_mRNA_ids.append(mrna)\n",
    "        \n",
    "print(len(GBM_mRNA_ids))\n",
    "print(len(set(GBM_mRNA_ids)))\n",
    "\n",
    "\n",
    "#getting list of GBM mRNA ids\n",
    "# GBM_patient_ids = []\n",
    "\n",
    "# for l in GBM_ids:\n",
    "#     patient = l[0]\n",
    "#     if patient == 'NA':\n",
    "#         pass\n",
    "#     else:\n",
    "#         GBM_patient_ids.append(patient)\n",
    "\n",
    "# print(len(set(GBM_patient_ids)))\n",
    "        \n",
    "#getting list of GBM snv ids\n",
    "GBM_snv_ids = []\n",
    "\n",
    "for l in GBM_ids:\n",
    "    snv = l[3]\n",
    "    if snv == 'NA':\n",
    "        pass\n",
    "    else:\n",
    "        GBM_snv_ids.append(snv)\n",
    "\n",
    "print(len(GBM_snv_ids))\n",
    "\n",
    "#theres way more sample ids\n",
    "\n"
   ]
  },
  {
   "cell_type": "code",
   "execution_count": 73,
   "metadata": {
    "collapsed": false
   },
   "outputs": [],
   "source": [
    "#creating GBM similarity matrix\n",
    "import pandas as pd\n",
    "mat = pd.read_csv(\"/Users/Alexis/Desktop/StuartRotation/data/simMatrix.pancan.atlas.imputed.tsv\", delimiter = \"\\t\",skiprows=0, index_col=False)\n",
    "mat = mat.set_index('sample')\n",
    "new_mat = pd.DataFrame(index=GBM_mRNA_ids, columns=GBM_mRNA_ids)\n",
    "\n",
    "#all needed comparisons\n",
    "comp=[(GBM_mRNA_ids[i], GBM_mRNA_ids[j]) for i in xrange(len(GBM_mRNA_ids)) for j in xrange(len(GBM_mRNA_ids))]\n",
    "\n",
    "for c in comp:\n",
    "    new_mat.loc[c] = mat.loc[c]\n",
    "    \n",
    "new_mat.to_csv(\"/Users/Alexis/Desktop/StuartRotation/data/GBM_simMatrix.pancan.atlas.imputed.tsv\",sep='\\t')"
   ]
  },
  {
   "cell_type": "code",
   "execution_count": 36,
   "metadata": {
    "collapsed": true
   },
   "outputs": [],
   "source": [
    "#make GBM binary mutation matrix\n",
    "#only using - Frame_Shift_Del, Frame_Shift_Ins, In_Frame_Del, In_Frame_Ins, Missense_Mutation, Nonsense_Mutation, Nonstop_Mutation, Splice_Site, Translation_Start_Site\n",
    "\n",
    "#[8] is variant type\n",
    "\n",
    "\n",
    "\n",
    "\n"
   ]
  },
  {
   "cell_type": "code",
   "execution_count": 68,
   "metadata": {
    "collapsed": false
   },
   "outputs": [
    {
     "name": "stdout",
     "output_type": "stream",
     "text": [
      "ATRX\n",
      "TCGA-02-0055-01A-01D-1490-08\n",
      "ATRX\n",
      "TCGA-02-2470-01A-01D-1494-08\n",
      "ATRX\n",
      "TCGA-02-2483-01A-01D-1494-08\n",
      "ATRX\n",
      "TCGA-02-2483-01A-01D-1494-08\n",
      "ATRX\n",
      "ATRX\n",
      "ATRX\n",
      "ATRX\n",
      "ATRX\n",
      "TCGA-02-2483-01A-01D-1494-08    1\n",
      "TCGA-06-2563-01A-01R-1849-01    0\n",
      "TCGA-06-5411-01A-01R-1849-01    0\n",
      "TCGA-06-5410-01A-01R-1849-01    0\n",
      "TCGA-06-5408-01A-01R-1849-01    0\n",
      "TCGA-06-2570-01A-01R-1849-01    0\n",
      "TCGA-06-2569-01A-01R-1849-01    0\n",
      "TCGA-06-2567-01A-01R-1849-01    0\n",
      "TCGA-06-2565-01A-01R-1849-01    0\n",
      "TCGA-06-2564-01A-01R-1849-01    0\n",
      "TCGA-06-2562-01A-01R-1849-01    0\n",
      "TCGA-06-0747-01A-01R-1849-01    0\n",
      "TCGA-06-2561-01A-02R-1849-01    0\n",
      "TCGA-06-2559-01A-01R-1849-01    0\n",
      "TCGA-06-2558-01A-01R-1849-01    0\n",
      "TCGA-06-2557-01A-01R-1849-01    0\n",
      "TCGA-06-1804-01A-01R-1849-01    0\n",
      "TCGA-06-0882-01A-01R-1849-01    0\n",
      "TCGA-06-0878-01A-01R-1849-01    0\n",
      "TCGA-06-0750-01A-01R-1849-01    0\n",
      "TCGA-06-5412-01A-01R-1849-01    0\n",
      "TCGA-06-5413-01A-01R-1849-01    0\n",
      "TCGA-06-5414-01A-01R-1849-01    0\n",
      "TCGA-06-5415-01A-01R-1849-01    0\n",
      "TCGA-12-5299-01A-02R-1849-01    0\n",
      "TCGA-12-5295-01A-01R-1849-01    0\n",
      "TCGA-12-3653-01A-01R-1849-01    0\n",
      "TCGA-12-3652-01A-01R-1849-01    0\n",
      "TCGA-12-3650-01A-01R-1849-01    0\n",
      "TCGA-12-1597-01B-01R-1849-01    0\n",
      "                               ..\n",
      "TCGA-14-1825-01A-01R-1850-01    0\n",
      "TCGA-14-1823-01A-01R-1849-01    0\n",
      "TCGA-14-1402-02A-01R-2005-01    0\n",
      "TCGA-14-1034-02B-01R-2005-01    0\n",
      "TCGA-14-1034-01A-01R-1849-01    0\n",
      "TCGA-14-0871-01A-01R-1849-01    0\n",
      "TCGA-14-0817-01A-01R-1849-01    0\n",
      "TCGA-14-0790-01B-01R-1849-01    0\n",
      "TCGA-19-1787-01B-01R-1850-01    0\n",
      "TCGA-19-2620-01A-01R-1850-01    0\n",
      "TCGA-27-1837-01A-01R-1850-01    0\n",
      "TCGA-19-2624-01A-01R-1850-01    0\n",
      "TCGA-27-1835-01A-01R-1850-01    0\n",
      "TCGA-27-1834-01A-01R-1850-01    0\n",
      "TCGA-27-1832-01A-01R-1850-01    0\n",
      "TCGA-27-1831-01A-01R-1850-01    0\n",
      "TCGA-27-1830-01A-01R-1850-01    0\n",
      "TCGA-26-5139-01A-01R-1850-01    0\n",
      "TCGA-26-5136-01B-01R-1850-01    0\n",
      "TCGA-26-5135-01A-01R-1850-01    0\n",
      "TCGA-26-5134-01A-01R-1850-01    0\n",
      "TCGA-26-5133-01A-01R-1850-01    0\n",
      "TCGA-26-5132-01A-01R-1850-01    0\n",
      "TCGA-26-1442-01A-01R-1850-01    0\n",
      "TCGA-19-5960-01A-11R-1850-01    0\n",
      "TCGA-19-4065-02A-11R-2005-01    0\n",
      "TCGA-19-4065-01A-01R-2005-01    0\n",
      "TCGA-19-2629-01A-01R-1850-01    0\n",
      "TCGA-19-2625-01A-01R-1850-01    0\n",
      "TCGA-02-0047-01A-01R-1849-01    0\n",
      "Name: 0, dtype: int64\n"
     ]
    }
   ],
   "source": [
    "################\n",
    "# Binary Feature Creation\n",
    "################\n",
    "\n",
    "\n",
    "#array of GBM ATRX mutations\n",
    "\n",
    "varianttypes = ['Frame_Shift_Del', 'Frame_Shift_Ins', 'In_Frame_Del', 'In_Frame_Ins', 'Missense_Mutation', 'Nonsense_Mutation', 'Nonstop_Mutation', 'Splice_Site', 'Translation_Start_Site']\n",
    "\n",
    "GBM_ATRX = pd.DataFrame(0, index = range(1), columns = GBM_mRNA_ids)\n",
    "\n",
    "for line in open(\"/Users/Alexis/Desktop/StuartRotation/data/snv_out.tsv\", \"r\"):\n",
    "    sline = line.split(\"\\t\")\n",
    "    if sline[0]== 'ATRX':\n",
    "        print(sline[0])\n",
    "        #is it a GBM sample?\n",
    "        if sline[15] in GBM_snv_ids:\n",
    "            print(sline[15])\n",
    "            #is it an impactful type?\n",
    "            if sline[8] in varianttypes:\n",
    "#                 print(sline)\n",
    "                #add to matrix\n",
    "                GBM_ATRX[sline[15]] = 1\n",
    "\n",
    "\n",
    "print(GBM_ATRX.iloc[0].sort_values(ascending = False))\n",
    "\n",
    "\n",
    "    \n"
   ]
  },
  {
   "cell_type": "code",
   "execution_count": null,
   "metadata": {
    "collapsed": true
   },
   "outputs": [],
   "source": []
  },
  {
   "cell_type": "code",
   "execution_count": null,
   "metadata": {
    "collapsed": true
   },
   "outputs": [],
   "source": []
  }
 ],
 "metadata": {
  "kernelspec": {
   "display_name": "Python 2",
   "language": "python",
   "name": "python2"
  },
  "language_info": {
   "codemirror_mode": {
    "name": "ipython",
    "version": 2
   },
   "file_extension": ".py",
   "mimetype": "text/x-python",
   "name": "python",
   "nbconvert_exporter": "python",
   "pygments_lexer": "ipython2",
   "version": "2.7.10"
  }
 },
 "nbformat": 4,
 "nbformat_minor": 2
}
