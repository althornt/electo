{
 "cells": [
  {
   "cell_type": "code",
   "execution_count": 116,
   "metadata": {
    "collapsed": true
   },
   "outputs": [],
   "source": [
    "import pandas as pd\n",
    "import numpy as np\n",
    "import collections\n",
    "from scipy import stats"
   ]
  },
  {
   "cell_type": "code",
   "execution_count": 120,
   "metadata": {
    "collapsed": false
   },
   "outputs": [
    {
     "name": "stdout",
     "output_type": "stream",
     "text": [
      "                              TCGA-02-0047-01A-01R-1849-01  \\\n",
      "TCGA-02-0047-01A-01R-1849-01                        1.0000   \n",
      "TCGA-02-0055-01A-01R-1849-01                        0.0300   \n",
      "TCGA-02-2483-01A-01R-1849-01                        0.7234   \n",
      "TCGA-02-2485-01A-01R-1849-01                        0.2200   \n",
      "\n",
      "                              TCGA-02-0055-01A-01R-1849-01  \\\n",
      "TCGA-02-0047-01A-01R-1849-01                      0.359671   \n",
      "TCGA-02-0055-01A-01R-1849-01                      1.000000   \n",
      "TCGA-02-2483-01A-01R-1849-01                      0.359671   \n",
      "TCGA-02-2485-01A-01R-1849-01                      0.359671   \n",
      "\n",
      "                              TCGA-02-2483-01A-01R-1849-01  \\\n",
      "TCGA-02-0047-01A-01R-1849-01                      0.420936   \n",
      "TCGA-02-0055-01A-01R-1849-01                      0.420936   \n",
      "TCGA-02-2483-01A-01R-1849-01                      1.000000   \n",
      "TCGA-02-2485-01A-01R-1849-01                      0.420936   \n",
      "\n",
      "                              TCGA-02-2485-01A-01R-1849-01  \n",
      "TCGA-02-0047-01A-01R-1849-01                      0.805508  \n",
      "TCGA-02-0055-01A-01R-1849-01                      0.805508  \n",
      "TCGA-02-2483-01A-01R-1849-01                      0.805508  \n",
      "TCGA-02-2485-01A-01R-1849-01                      1.000000  \n"
     ]
    }
   ],
   "source": [
    "def readSimilarityMatrix(filename):\n",
    "    \"\"\"\n",
    "    read in sample by sample similarity matrix\n",
    "    input: file location\n",
    "    return: pandas data frame \n",
    "    \"\"\"\n",
    "    similarity = pd.read_csv(filename, delimiter = \"\\t\",skiprows=0, index_col=0)\n",
    "#     similarity = similarity.set_index('sample')\n",
    "#     similarity = similarity.set_index([[0]])\n",
    "    \n",
    "    return similarity\n",
    "\n",
    "similarity = readSimilarityMatrix(\"/Users/Alexis/Desktop/StuartRotation/data/GBM_simMatrix.pancan.atlas.imputed.tsv\")\n",
    "\n",
    "similarity_test = readSimilarityMatrix(\"/Users/Alexis/Desktop/samplemat.txt\")\n",
    "similarity_test2 = readSimilarityMatrix(\"/Users/Alexis/Desktop/pancansample.tsv\")\n",
    "\n",
    "print(similarity_test2)\n",
    "# print(similarity)\n",
    "\n",
    "#['TCGA-06-0125-01A-01R-1849-01'] occurs twice? \n",
    "# check if vals are equal and delete"
   ]
  },
  {
   "cell_type": "code",
   "execution_count": 125,
   "metadata": {
    "collapsed": false
   },
   "outputs": [
    {
     "name": "stdout",
     "output_type": "stream",
     "text": [
      "                                                         1  \\\n",
      "TCGA-02-0047-01A-01R-1849-01  TCGA-02-2485-01A-01R-1849-01   \n",
      "TCGA-02-0055-01A-01R-1849-01  TCGA-02-2485-01A-01R-1849-01   \n",
      "TCGA-02-2483-01A-01R-1849-01  TCGA-02-2485-01A-01R-1849-01   \n",
      "TCGA-02-2485-01A-01R-1849-01  TCGA-02-2483-01A-01R-1849-01   \n",
      "\n",
      "                                                         2  \\\n",
      "TCGA-02-0047-01A-01R-1849-01  TCGA-02-2483-01A-01R-1849-01   \n",
      "TCGA-02-0055-01A-01R-1849-01  TCGA-02-2483-01A-01R-1849-01   \n",
      "TCGA-02-2483-01A-01R-1849-01  TCGA-02-0047-01A-01R-1849-01   \n",
      "TCGA-02-2485-01A-01R-1849-01  TCGA-02-0055-01A-01R-1849-01   \n",
      "\n",
      "                                                         3  \n",
      "TCGA-02-0047-01A-01R-1849-01  TCGA-02-0055-01A-01R-1849-01  \n",
      "TCGA-02-0055-01A-01R-1849-01  TCGA-02-0047-01A-01R-1849-01  \n",
      "TCGA-02-2483-01A-01R-1849-01  TCGA-02-0055-01A-01R-1849-01  \n",
      "TCGA-02-2485-01A-01R-1849-01  TCGA-02-0047-01A-01R-1849-01  \n"
     ]
    }
   ],
   "source": [
    "def getSampleRankings(similarity_matrix):\n",
    "    \"\"\"\n",
    "    calculate ranking of samples by similarity to each sample\n",
    "    input: similarity matrix\n",
    "    return: sample by rank matrix, containing sample names ordered by similarity to row name\n",
    "    \"\"\"\n",
    "    samples = (list(similarity_matrix.index)) #row names\n",
    "    sample_ranking_mat = pd.DataFrame(index = samples) #new matrix with same row names\n",
    "    \n",
    "    for sample in samples:\n",
    "        #sort row, get list of ranked sample names\n",
    "        ranked_samples = (similarity_matrix.loc[sample].sort_values(ascending=False).index.tolist())\n",
    "        sample_ranking_mat[sample] = ranked_samples\n",
    "    \n",
    "    #transform\n",
    "    sample_ranking_mat = sample_ranking_mat.T\n",
    "    \n",
    "    #redo header line\n",
    "    sample_ranking_mat.columns = range(len(samples))\n",
    "        \n",
    "    #remove first column\n",
    "    sample_ranking_mat = sample_ranking_mat.drop(sample_ranking_mat.columns[0], axis=1)\n",
    "    \n",
    "    return sample_ranking_mat\n",
    "\n",
    "ranked_samples = getSampleRankings(similarity_test2)\n",
    "\n",
    "print(ranked_samples)"
   ]
  },
  {
   "cell_type": "code",
   "execution_count": 126,
   "metadata": {
    "collapsed": false
   },
   "outputs": [
    {
     "name": "stdout",
     "output_type": "stream",
     "text": [
      "KstestResult(statistic=0.02275013194817921, pvalue=0.9762029562927512)\n"
     ]
    }
   ],
   "source": [
    "def KStoUniform(ranked_samples, pos_samples):\n",
    "    \"\"\"\n",
    "    calculate KS test of ranks of positive samples to uniform distribution\n",
    "    input: ranked samples, names of positive samples\n",
    "    return: KS distance\n",
    "    \"\"\"\n",
    "    pos_ranks = []\n",
    "    \n",
    "    #getting enumerated dictionary of ranked samples to reference\n",
    "    rankedsampleD = {}\n",
    "    for x,y in enumerate(ranked_samples.T.values.flatten()):\n",
    "        rankedsampleD[x]=y\n",
    "        \n",
    "    #getting list of positive sample rankings\n",
    "    for sample in pos_samples:\n",
    "        pos_ranks.append([key for key, val in rankedsampleD.items() if val == sample])\n",
    "    \n",
    "    #flattening \n",
    "    pos_ranks = [val for sublist in pos_ranks for val in sublist]\n",
    "        \n",
    "    ks = scipy.stats.kstest(pos_ranks,'norm', alternative='greater',N=len(ranked_samples))\n",
    "    \n",
    "    return ks\n",
    "\n",
    "    \n",
    "pos_samples = ['TCGA-02-2485-01A-01R-1849-01']\n",
    "ks = KStoUniform(ranked_samples, pos_samples)\n",
    "print(ks)\n"
   ]
  },
  {
   "cell_type": "code",
   "execution_count": 127,
   "metadata": {
    "collapsed": false
   },
   "outputs": [
    {
     "ename": "TypeError",
     "evalue": "getKSDistribution() takes exactly 3 arguments (2 given)",
     "output_type": "error",
     "traceback": [
      "\u001b[0;31m---------------------------------------------------------------------------\u001b[0m",
      "\u001b[0;31mTypeError\u001b[0m                                 Traceback (most recent call last)",
      "\u001b[0;32m<ipython-input-127-9ef99941655e>\u001b[0m in \u001b[0;36m<module>\u001b[0;34m()\u001b[0m\n\u001b[1;32m     31\u001b[0m     \u001b[0;32mreturn\u001b[0m \u001b[0mdistances\u001b[0m\u001b[0;34m\u001b[0m\u001b[0m\n\u001b[1;32m     32\u001b[0m \u001b[0;34m\u001b[0m\u001b[0m\n\u001b[0;32m---> 33\u001b[0;31m \u001b[0mposKS\u001b[0m \u001b[0;34m=\u001b[0m \u001b[0mgetKSDistribution\u001b[0m\u001b[0;34m(\u001b[0m\u001b[0mranked_samples\u001b[0m\u001b[0;34m,\u001b[0m \u001b[0;34m[\u001b[0m\u001b[0;34m'TCGA-02-2485-01A-01R-1849-01'\u001b[0m\u001b[0;34m]\u001b[0m\u001b[0;34m)\u001b[0m\u001b[0;34m\u001b[0m\u001b[0m\n\u001b[0m",
      "\u001b[0;31mTypeError\u001b[0m: getKSDistribution() takes exactly 3 arguments (2 given)"
     ]
    }
   ],
   "source": [
    "def getKSDistribution(samples, sample_ranking_mat, pos_samples):\n",
    "    \"\"\"\n",
    "    get KS distance for all samples in a set\n",
    "    input: sample set, the sample ranking matrix, names of positive samples\n",
    "    return: vector of KS distances\n",
    "    \"\"\"\n",
    "\n",
    "    samples = (list(similarity_matrix.index)) #row names\n",
    "    sample_ranking_mat = pd.DataFrame(index = samples) #new matrix with same row names\n",
    "    \n",
    "    for sample in samples:\n",
    "        #sort row, get list of ranked sample names\n",
    "        ranked_samples = (similarity_matrix.loc[sample].sort_values(ascending=False).index.tolist())\n",
    "        sample_ranking_mat[sample] = ranked_samples\n",
    "    \n",
    "    #transform\n",
    "    sample_ranking_mat = sample_ranking_mat.T\n",
    "    \n",
    "    #redo header line\n",
    "    sample_ranking_mat.columns = range(len(samples))\n",
    "    \n",
    "    #remove first column\n",
    "    sample_ranking_mat = sample_ranking_mat.drop(sample_ranking_mat.columns[0], axis=1)\n",
    "    \n",
    "    distances = []\n",
    "    \n",
    "    \n",
    "    \n",
    "    \n",
    "    \n",
    "    return distances\n",
    "    \n",
    "posKS = getKSDistribution(ranked_samples, ['TCGA-02-2485-01A-01R-1849-01'])"
   ]
  },
  {
   "cell_type": "code",
   "execution_count": null,
   "metadata": {
    "collapsed": true
   },
   "outputs": [],
   "source": []
  },
  {
   "cell_type": "code",
   "execution_count": null,
   "metadata": {
    "collapsed": true
   },
   "outputs": [],
   "source": []
  },
  {
   "cell_type": "code",
   "execution_count": null,
   "metadata": {
    "collapsed": true
   },
   "outputs": [],
   "source": []
  },
  {
   "cell_type": "code",
   "execution_count": 115,
   "metadata": {
    "collapsed": false
   },
   "outputs": [
    {
     "name": "stdout",
     "output_type": "stream",
     "text": [
      "(['TCGA-02-0047-01A-01R-1849-01', 'TCGA-02-0055-01A-01R-1849-01', 'TCGA-02-2483-01A-01R-1849-01', 'TCGA-02-2485-01A-01R-1849-01'],                                                          1  \\\n",
      "TCGA-02-0047-01A-01R-1849-01  TCGA-02-2485-01A-01R-1849-01   \n",
      "TCGA-02-0055-01A-01R-1849-01  TCGA-02-2485-01A-01R-1849-01   \n",
      "TCGA-02-2483-01A-01R-1849-01  TCGA-02-2485-01A-01R-1849-01   \n",
      "TCGA-02-2485-01A-01R-1849-01  TCGA-02-2483-01A-01R-1849-01   \n",
      "\n",
      "                                                         2  \\\n",
      "TCGA-02-0047-01A-01R-1849-01  TCGA-02-2483-01A-01R-1849-01   \n",
      "TCGA-02-0055-01A-01R-1849-01  TCGA-02-2483-01A-01R-1849-01   \n",
      "TCGA-02-2483-01A-01R-1849-01  TCGA-02-0047-01A-01R-1849-01   \n",
      "TCGA-02-2485-01A-01R-1849-01  TCGA-02-0055-01A-01R-1849-01   \n",
      "\n",
      "                                                         3  \n",
      "TCGA-02-0047-01A-01R-1849-01  TCGA-02-0055-01A-01R-1849-01  \n",
      "TCGA-02-0055-01A-01R-1849-01  TCGA-02-0047-01A-01R-1849-01  \n",
      "TCGA-02-2483-01A-01R-1849-01  TCGA-02-0055-01A-01R-1849-01  \n",
      "TCGA-02-2485-01A-01R-1849-01  TCGA-02-0047-01A-01R-1849-01  )\n"
     ]
    }
   ],
   "source": []
  },
  {
   "cell_type": "code",
   "execution_count": null,
   "metadata": {
    "collapsed": true
   },
   "outputs": [],
   "source": []
  }
 ],
 "metadata": {
  "kernelspec": {
   "display_name": "Python 2",
   "language": "python",
   "name": "python2"
  },
  "language_info": {
   "codemirror_mode": {
    "name": "ipython",
    "version": 2
   },
   "file_extension": ".py",
   "mimetype": "text/x-python",
   "name": "python",
   "nbconvert_exporter": "python",
   "pygments_lexer": "ipython2",
   "version": "2.7.10"
  }
 },
 "nbformat": 4,
 "nbformat_minor": 2
}
